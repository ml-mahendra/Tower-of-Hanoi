{
 "cells": [
  {
   "cell_type": "markdown",
   "metadata": {},
   "source": [
    "## Explanation of Tower of Hanoi. How do we move the disks from the source to destination pegs.\n",
    "\n",
    "#### 1. If the no.of disks is 1, then move it from Source to Destination peg, else\n",
    "\n",
    "#### 2. (n-1) disks from Source to Auxilary peg using Destination peg. \n",
    "\n",
    "#### 3. Move nth disk from Source peg to Destination peg \n",
    "\n",
    "#### 4. Move (n-1) disks from the Auxilary peg to Destintion peg using Source peg."
   ]
  },
  {
   "cell_type": "code",
   "execution_count": 4,
   "metadata": {},
   "outputs": [
    {
     "name": "stdout",
     "output_type": "stream",
     "text": [
      "Enter the no of disks: 3\n",
      "Move the disk from Source -> Destination\n",
      "Move the  2 th disk from Source -> Aux\n",
      "Move the disk from Destination -> Aux\n",
      "Move the  3 th disk from Source -> Destination\n",
      "Move the disk from Aux -> Source\n",
      "Move the  2 th disk from Aux -> Destination\n",
      "Move the disk from Source -> Destination\n"
     ]
    }
   ],
   "source": [
    "def ToH(n,source,aux,destination):\n",
    "    if n ==1:\n",
    "        print(\"Move the disk from\", source, \"->\" ,destination)\n",
    "        return\n",
    "    ToH(n-1, source,destination,aux)\n",
    "    print(\"Move the \", n,\"th\", \"disk from\", source ,\"->\", destination)\n",
    "    ToH(n-1,aux,source,destination)\n",
    "\n",
    "ndisks = int(input(\"Enter the no of disks: \"))\n",
    "ToH(ndisks,'Source','Aux','Destination')"
   ]
  },
  {
   "cell_type": "code",
   "execution_count": null,
   "metadata": {},
   "outputs": [],
   "source": []
  }
 ],
 "metadata": {
  "kernelspec": {
   "display_name": "Python 3",
   "language": "python",
   "name": "python3"
  },
  "language_info": {
   "codemirror_mode": {
    "name": "ipython",
    "version": 3
   },
   "file_extension": ".py",
   "mimetype": "text/x-python",
   "name": "python",
   "nbconvert_exporter": "python",
   "pygments_lexer": "ipython3",
   "version": "3.8.5"
  }
 },
 "nbformat": 4,
 "nbformat_minor": 4
}
