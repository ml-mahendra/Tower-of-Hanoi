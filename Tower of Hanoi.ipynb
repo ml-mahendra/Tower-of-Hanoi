{
 "cells": [
  {
   "cell_type": "markdown",
   "metadata": {},
   "source": [
    "## Explanation of Tower of Hanoi. How do we move the disks from the source to destination pegs.\n",
    "\n",
    "#### 1. If the no.of disks is 1, then move it from Source to Destination peg, else\n",
    "\n",
    "#### 2. (n-1) disks from Source to Auxilary peg using Destination peg. \n",
    "\n",
    "#### 3. Move nth disk from Source peg to Destination peg \n",
    "\n",
    "#### 4. Move (n-1) disks from the Auxilary peg to Destintion peg using Source peg."
   ]
  },
  {
   "cell_type": "code",
   "execution_count": 7,
   "metadata": {},
   "outputs": [
    {
     "name": "stdout",
     "output_type": "stream",
     "text": [
      "Enter the no of disks: 3\n",
      "Move the 1 th disk from Source -> Destination\n",
      "Move the 2 th disk from Source -> Aux\n",
      "Move the 1 th disk from Destination -> Aux\n",
      "Move the 3 th disk from Source -> Destination\n",
      "Move the 1 th disk from Aux -> Source\n",
      "Move the 2 th disk from Aux -> Destination\n",
      "Move the 1 th disk from Source -> Destination\n"
     ]
    }
   ],
   "source": [
    "def ToH(n,source,aux,destination):\n",
    "    if n ==1:\n",
    "        print(\"Move the\",n,\"th disk from\", source, \"->\" ,destination)\n",
    "        return\n",
    "    ToH(n-1, source,destination,aux)\n",
    "    print(\"Move the\",n,\"th disk from\", source ,\"->\", destination)\n",
    "    ToH(n-1,aux,source,destination)\n",
    "\n",
    "#ndisks = int(input(\"Enter the no of disks: \"))\n",
    "ToH(ndisks,'Source','Aux','Destination')"
   ]
  },
  {
   "cell_type": "markdown",
   "metadata": {},
   "source": [
    "## Tower of Hanoi with 4 Pegs"
   ]
  },
  {
   "cell_type": "code",
   "execution_count": 8,
   "metadata": {},
   "outputs": [
    {
     "name": "stdout",
     "output_type": "stream",
     "text": [
      "Enter the no of disks: 3\n",
      "Move disk 1 from Source -> Aux1\n",
      "Move disk 2 from Source -> Aux2\n",
      "Move disk 3 from Source -> Destination\n",
      "Move disk 2 from Aux2 -> Destination\n",
      "Move disk 1 from Aux1 -> Destination\n"
     ]
    }
   ],
   "source": [
    "def ToH4(n, source, destination, aux_1, aux_2):\n",
    "       \n",
    "    # Base case: If there is only one disk, move it from the source rod to the destination rod\n",
    "    if n == 1:\n",
    "        print(\"Move disk\", n, \"from\", source, \"->\", destination)\n",
    "        return\n",
    "    \n",
    "    # Move (n-2) disks from the source rod to aux_rod1 and aux_rod2\n",
    "    ToH4(n - 2, source, aux_1, aux_2, destination)\n",
    "    \n",
    "    # Move the (n-1)th disk from the source rod to aux_rod2\n",
    "    print(\"Move disk\", n-1, \"from\", source,\"->\", aux_2)\n",
    "    \n",
    "    # Move the nth disk from the source rod to the destination rod\n",
    "    print(\"Move disk\", n, \"from\", source, \"->\", destination)\n",
    "    \n",
    "    # Move the (n-1)th disk from aux_rod2 to the destination rod\n",
    "    print(\"Move disk\", n-1, \"from\", aux_2, \"->\", destination)\n",
    "    \n",
    "    # Move (n-2) disks from aux_rod1 and aux_rod2 to the destination rod\n",
    "    ToH4(n - 2, aux_1, destination, source, aux_2)\n",
    "\n",
    "# Driver program\n",
    "#ndisks = int(input(\"Enter the no of disks: \"))\n",
    "\n",
    "# A, B, C, and D are names of rods\n",
    "ToH4(ndisks, 'Source', 'Destination', 'Aux1', 'Aux2')"
   ]
  },
  {
   "cell_type": "markdown",
   "metadata": {},
   "source": [
    "## Game Control\n",
    "\n",
    "##### Using the above two functions, will try to write a game control that ask user for the option that how they would like to solve the puzzle for the disks (3 pegs or 4 pegs)."
   ]
  },
  {
   "cell_type": "code",
   "execution_count": 18,
   "metadata": {},
   "outputs": [
    {
     "name": "stdout",
     "output_type": "stream",
     "text": [
      "Enter the no of disks: 3\n",
      "How would you like to solve the Tower of Hanoi puzzle?\n",
      "Available choices:\n",
      "3 pegs\n",
      "4 pegs\n",
      "Enter your choice: 3 pegs\n",
      "Invalid\n"
     ]
    }
   ],
   "source": [
    "disks = int(input(\"Enter the no of disks: \"))\n",
    "\n",
    "print(\"How would you like to solve the Tower of Hanoi puzzle?\")\n",
    "print(\"Available choices:\")\n",
    "\n",
    "sol = [\"3 pegs\",\"4 pegs\"]\n",
    "for i in sol:\n",
    "    print(i)\n",
    "\n",
    "choice = input(\"Enter your choice: \")\n",
    "\n",
    "if \"3pegs\"  in choice.lower():\n",
    "    ToH(disks,'Source','Aux','Destination')\n",
    "elif \"4pegs\" in choice.lower():\n",
    "    ToH4(disks, 'Source', 'Destination', 'Aux1', 'Aux2')\n",
    "else:\n",
    "    print(\"Invalid\")"
   ]
  },
  {
   "cell_type": "code",
   "execution_count": null,
   "metadata": {},
   "outputs": [],
   "source": []
  }
 ],
 "metadata": {
  "kernelspec": {
   "display_name": "Python 3",
   "language": "python",
   "name": "python3"
  },
  "language_info": {
   "codemirror_mode": {
    "name": "ipython",
    "version": 3
   },
   "file_extension": ".py",
   "mimetype": "text/x-python",
   "name": "python",
   "nbconvert_exporter": "python",
   "pygments_lexer": "ipython3",
   "version": "3.8.5"
  }
 },
 "nbformat": 4,
 "nbformat_minor": 4
}
